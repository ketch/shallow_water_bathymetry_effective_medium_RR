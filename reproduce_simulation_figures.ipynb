{
 "cells": [
  {
   "cell_type": "markdown",
   "id": "033c78d0-fae3-4492-90ca-193a0ce94bbe",
   "metadata": {},
   "source": [
    "This notebook reproduces all of the figures that involve solving the shallow water or homogenized SW equations numerically.\n",
    "\n",
    "The pseudospectral simulations run quickly so we just execute them here in the notebook.  The finite volume simulations take longer, so we simply load them from files.  To re-create those files from scratch, install Clawpack and then run the following three commands from a terminal in the same directory as this notebook:\n",
    "\n",
    "```\n",
    ">>> python SW_periodic_bathy.py mx=20000 solver_type=sharpclaw xupper=400 tfinal=180 riemann_solver=fwave outdir=./_output_flat_20k bathy=constant b_amp=0.7\n",
    "\n",
    ">>> python SW_periodic_bathy.py mx=40000 solver_type=sharpclaw xupper=400 tfinal=180 riemann_solver=fwave outdir=./_output_sharpclaw_mx40k/ bathy=pwc b_amp=0.7\n",
    "\n",
    ">>> python SW_periodic_bathy.py mx=320000 solver_type=classic xupper=500 tfinal=200 riemann_solver=fwave outdir=./_output_sinusoidal_classic_b08_mx320k/ bathy=sinusoidal b_amp=0.8\n",
    "\n",
    "```"
   ]
  },
  {
   "cell_type": "code",
   "execution_count": null,
   "id": "9c1f51ad-25ce-4f6e-83cb-8e8208382770",
   "metadata": {},
   "outputs": [],
   "source": [
    "import matplotlib.pyplot as plt\n",
    "from clawpack import pyclaw\n",
    "from homog_pseudospectral import *\n",
    "font = {'size'   : 15}\n",
    "matplotlib.rc('font', **font)\n",
    "lw = 1.5"
   ]
  },
  {
   "cell_type": "markdown",
   "id": "871a6daa-829e-4c0b-8263-aa78c820e888",
   "metadata": {},
   "source": [
    "# Figure 1\n",
    "The next cell reproduces the example from the introduction."
   ]
  },
  {
   "cell_type": "code",
   "execution_count": null,
   "id": "48f1254c-c4fb-46ae-ab4a-f95e7402dae5",
   "metadata": {},
   "outputs": [],
   "source": [
    "tmax = 180\n",
    "fig, ax = plt.subplots(2,2,figsize=(12,8),sharey=True)\n",
    "plt.subplots_adjust(wspace=0.02)\n",
    "ytext = 0.0225\n",
    "props = dict(facecolor='lightgrey', alpha=0.2)\n",
    "\n",
    "t_int = tmax/100\n",
    "\n",
    "def add_plot(frame,axis,xmin,xmax):\n",
    "    i = frame\n",
    "    axis = axis\n",
    "    axis.set_ylim(-0.002,0.025)\n",
    "    flat_bottom     = pyclaw.Solution(i,file_format='petsc',file_prefix='claw',path='./_output_flat_20k/')\n",
    "    variable_bottom = pyclaw.Solution(i,file_format='petsc',file_prefix='claw',path='./_output_sharpclaw_mx40k/')\n",
    "    x_flat = flat_bottom.grid.x.centers\n",
    "    x_vari = variable_bottom.grid.x.centers\n",
    "    h_flat = flat_bottom.q[0,:]\n",
    "    h_vari = variable_bottom.q[0,:]\n",
    "    b_flat = flat_bottom.aux[0,:]\n",
    "    b_vari = variable_bottom.aux[0,:]\n",
    "    eta_flat = h_flat + b_flat\n",
    "    eta_vari = h_vari + b_vari\n",
    "    axis.plot(x_vari,eta_vari,'-k',lw=lw)\n",
    "    axis.plot(x_flat,eta_flat,'--C0',lw=lw,alpha=1)\n",
    "    axis.set_xlim(xmin,xmax)\n",
    "    axis.set_xticks(range(int(xmin)+5, int(xmax)-4, 10))\n",
    "    axis.set_yticks([0, 0.025])  # set only 3 y-axis tick labels\n",
    "    axis.text(xmin+(xmax-xmin)/3,ytext,'$t=%3.1f$' % (i*t_int),bbox=props)\n",
    "\n",
    "add_plot(2,axis=ax[0,0],xmin=0,xmax=30)\n",
    "add_plot(14,axis=ax[0,1],xmin=40,xmax=70)\n",
    "add_plot(46,axis=ax[1,0],xmin=160,xmax=190)\n",
    "add_plot(100,axis=ax[1,1],xmin=370,xmax=400)\n",
    "\n",
    "fig.text(0.5, 0.04, 'x', ha='center', va='center')\n",
    "fig.text(0.06, 0.5, 'Surface Height ($\\eta$)', ha='center', va='center', rotation='vertical')\n",
    "fig.legend(['Variable bottom','Flat bottom'],loc='upper center', fancybox=True, shadow=True);\n",
    "plt.savefig('intro_example.pdf')"
   ]
  },
  {
   "cell_type": "markdown",
   "id": "92c8bf77-f5f9-46f9-b169-a84c935d9631",
   "metadata": {},
   "source": [
    "# Figure 5\n",
    "Next we reproduce Figure 5, which is a comparison of homogenized and direct solutions for waves over piecewise-constant bathymetry."
   ]
  },
  {
   "cell_type": "code",
   "execution_count": null,
   "id": "7044e597-8c45-46f7-b53a-e853a468d7d3",
   "metadata": {},
   "outputs": [],
   "source": [
    "bathy = 'pwc' # Piecewise-constant bathymetry\n",
    "b_amp = 0.7   # Difference in height between deep and shallow sections\n",
    "m = 4096      # Number of points in space for simulation\n",
    "dtfactor = 0.5 # Time step size multiplier\n",
    "L = 800       # Domain goes from -L/2 to L/2\n",
    "width = 3.    # Width of initial perturbation\n",
    "h_amp = 0.025 # Height of initial perturbation"
   ]
  },
  {
   "cell_type": "code",
   "execution_count": null,
   "id": "8485a2dd-89ee-4173-892b-740457178685",
   "metadata": {},
   "outputs": [],
   "source": [
    "# 3rd-order approximate series\n",
    "order4 = False\n",
    "order5 = False\n",
    "x3, xi3, momentum3, eta3, _ = solve_SWH(bathy=bathy,h_amp=h_amp,tmax=180,m=m,width=width,L=L,IC='pulse',\n",
    "                                        b_amp=b_amp,order4=order4,order5=order5,dtfac=dtfactor,\n",
    "                                        make_anim=False)"
   ]
  },
  {
   "cell_type": "code",
   "execution_count": null,
   "id": "d145ca22-c0f9-4d6a-b782-2b3a9e83eb55",
   "metadata": {},
   "outputs": [],
   "source": [
    "# 5th-order approximate series\n",
    "order4 = True\n",
    "order5 = True\n",
    "x5, xi5, momentum5, eta5, _ = solve_SWH(bathy=bathy,h_amp=h_amp,tmax=180,m=m,width=width,L=L,IC='pulse',\n",
    "                                        b_amp=b_amp,order4=order4,order5=order5,dtfac=dtfactor,\n",
    "                                        make_anim=False)"
   ]
  },
  {
   "cell_type": "code",
   "execution_count": null,
   "id": "b51d8576-4d29-4222-ab1b-074c92e7ff13",
   "metadata": {},
   "outputs": [],
   "source": [
    "def load_frame(i,path):\n",
    "    # Load a highly-resolved Clawpack solution\n",
    "    sw_solution = pyclaw.Solution(i,file_format='petsc',file_prefix='claw',path=path)\n",
    "    x_sw = sw_solution.grid.x.centers\n",
    "    h_sw = sw_solution.q[0,:]\n",
    "    b_sw = sw_solution.aux[0,:]\n",
    "    eta_sw = h_sw + b_sw\n",
    "    return x_sw, eta_sw"
   ]
  },
  {
   "cell_type": "code",
   "execution_count": null,
   "id": "abe38720-94ae-4ec8-b12c-ca68b69c2514",
   "metadata": {},
   "outputs": [],
   "source": [
    "tmax = 180\n",
    "fig, ax = plt.subplots(2,2,figsize=(12,8),sharey=True)\n",
    "plt.subplots_adjust(wspace=0.02)\n",
    "ytext = 0.0225\n",
    "props = dict(facecolor='lightgrey', alpha=0.2)\n",
    "path='./_output_sharpclaw_mx40k/'\n",
    "t_int = tmax/(len(eta3)-1)\n",
    "\n",
    "def add_plot(frame,axis,xmin,xmax):\n",
    "    i = frame\n",
    "    axis = axis\n",
    "    x_ps3, e_ps3 = fine_resolution(eta3[i],20000,x3,xi3)\n",
    "    axis.plot(x_ps3,e_ps3,'-.C1',lw=lw)\n",
    "    x_ps5, e_ps5 = fine_resolution(eta5[i],20000,x5,xi5)\n",
    "    axis.plot(x_ps5,e_ps5,'--C0',lw=lw)\n",
    "    axis.set_ylim(-0.002,0.025)\n",
    "    x_sw, eta_sw = load_frame(i,path)\n",
    "    axis.plot(x_sw,eta_sw,'-k',lw=lw,alpha=1.,label='Shallow Water')\n",
    "    axis.set_xlim(xmin,xmax)\n",
    "    axis.set_xticks(range(int(xmin)+5, int(xmax)-4, 10))\n",
    "    axis.set_yticks([0, 0.025])  # set only 3 y-axis tick labels\n",
    "    axis.text(xmin+(xmax-xmin)/3,ytext,'$t=%3.1f$' % (i*t_int),bbox=props)\n",
    "\n",
    "add_plot(2,axis=ax[0,0],xmin=0,xmax=30)\n",
    "add_plot(14,axis=ax[0,1],xmin=40,xmax=70)\n",
    "add_plot(46,axis=ax[1,0],xmin=160,xmax=190)\n",
    "add_plot(100,axis=ax[1,1],xmin=370,xmax=400)\n",
    "\n",
    "fig.text(0.5, 0.04, 'x', ha='center', va='center')\n",
    "fig.text(0.06, 0.5, 'Surface Height ($\\eta$)', ha='center', va='center', rotation='vertical')\n",
    "fig.legend(['$O(\\delta^3)$ Homogenized','$O(\\delta^5)$ Homogenized','Shallow water'],loc='upper center', fancybox=True, shadow=True);\n",
    "plt.savefig('comparison_pwc.pdf')"
   ]
  },
  {
   "cell_type": "markdown",
   "id": "da1793d1-7041-4224-85f8-29ec95ed5a92",
   "metadata": {},
   "source": [
    "# Figure 6\n",
    "Figure 6 compares the direct solution with a homogenized solution that includes both the slow- and fast-scale effects."
   ]
  },
  {
   "cell_type": "code",
   "execution_count": null,
   "id": "938d2152-b636-4f26-9403-75afc75b6add",
   "metadata": {},
   "outputs": [],
   "source": [
    "# 5th-order approximate plus 7th-order linear terms\n",
    "order4 = True\n",
    "order5 = True\n",
    "order7 = True\n",
    "x7, xi7, momentum7, eta7, _ = solve_SWH(bathy=bathy,h_amp=h_amp,tmax=180,m=m,width=width,L=L,IC='pulse',\n",
    "                                        b_amp=b_amp,order4=order4,order5=order5,order7=order7,dtfac=dtfactor,\n",
    "                                        make_anim=False)"
   ]
  },
  {
   "cell_type": "code",
   "execution_count": null,
   "id": "d1b0b2b7-1adb-46f3-87b8-a14ec5b4ac88",
   "metadata": {},
   "outputs": [],
   "source": [
    "i = 14\n",
    "N_plot_points = 20000\n",
    "xfine7, etafine7 = fine_resolution(eta7[i],N_plot_points,x7,xi7)\n",
    "xfine7, momfine7 = fine_resolution(momentum7[i],N_plot_points,x7,xi7)\n",
    "eta_fast = eta_variation(xfine7,etafine7,momfine7,bathy='tanh',b_amp=b_amp)"
   ]
  },
  {
   "cell_type": "code",
   "execution_count": null,
   "id": "ef24b3ca-5d2d-4e61-afe2-113931224369",
   "metadata": {},
   "outputs": [],
   "source": [
    "# Load a highly-resolved Clawpack solution\n",
    "sw_solution = pyclaw.Solution(i,file_format='petsc',file_prefix='claw',path='./_output_sharpclaw_mx40k/')\n",
    "x_sw = sw_solution.grid.x.centers\n",
    "h_sw = sw_solution.q[0,:]\n",
    "b_sw = sw_solution.aux[0,:]\n",
    "eta_sw = h_sw + b_sw"
   ]
  },
  {
   "cell_type": "code",
   "execution_count": null,
   "id": "fc5d5b3d-a6f8-465e-8ec5-61bcfaadf40f",
   "metadata": {},
   "outputs": [],
   "source": [
    "fs = 20\n",
    "plt.figure(figsize=(12,6))\n",
    "plt.plot(x_sw,eta_sw, '-k', lw=lw, label='Shallow water')\n",
    "plt.plot(xfine7, etafine7, '--C0', lw=1.5, label='$\\overline{\\eta}(x,t)$')\n",
    "plt.plot(xfine7, etafine7+eta_fast, '--C3', label='$\\eta(x,y,t)$')\n",
    "plt.xlim(45,62)\n",
    "plt.legend(fontsize=fs);\n",
    "plt.ylabel('$\\eta$',fontsize=fs)\n",
    "plt.xlabel('x',fontsize=fs)\n",
    "plt.savefig('fast_variation.pdf')"
   ]
  },
  {
   "cell_type": "markdown",
   "id": "046f6fb9-c059-46d5-ace2-92cf91e4ea5a",
   "metadata": {},
   "source": [
    "# Figure 7\n",
    "Figure 7 is a comparison of homogenized and direct solutions for waves over sinusoidal bathymetry."
   ]
  },
  {
   "cell_type": "code",
   "execution_count": null,
   "id": "1e53a3bd-27d0-4c31-87d3-f622f6290816",
   "metadata": {},
   "outputs": [],
   "source": [
    "b_amp = 0.8\n",
    "bathy = 'sinusoidal'\n",
    "width = 3.\n",
    "h_amp = 0.025\n",
    "tmax = 200\n",
    "m = 4096\n",
    "L = 1000"
   ]
  },
  {
   "cell_type": "code",
   "execution_count": null,
   "id": "d2b6a84b-0cf1-45d1-8ab5-e384c845695d",
   "metadata": {},
   "outputs": [],
   "source": [
    "# 3rd-order approximate series\n",
    "order4 = False\n",
    "order5 = False\n",
    "x3, xi3, momentum3, eta3, _ = solve_SWH(bathy=bathy,h_amp=h_amp,tmax=tmax,m=m,width=width,L=L,IC='pulse',\n",
    "                                        b_amp=b_amp,order4=order4,order5=order5,dtfac=dtfactor,\n",
    "                                        make_anim=False)"
   ]
  },
  {
   "cell_type": "code",
   "execution_count": null,
   "id": "65135f4e-9fdd-442f-acc2-cf1689121972",
   "metadata": {},
   "outputs": [],
   "source": [
    "# 5th-order approximate series\n",
    "order4 = True\n",
    "order5 = True\n",
    "x5, xi5, momentum5, eta5, _ = solve_SWH(bathy=bathy,h_amp=h_amp,tmax=tmax,m=m,width=width,L=L,IC='pulse',\n",
    "                                        b_amp=b_amp,order4=order4,order5=order5,dtfac=dtfactor,\n",
    "                                        make_anim=False)"
   ]
  },
  {
   "cell_type": "code",
   "execution_count": null,
   "id": "44b10eb4-4c4c-4187-a924-2d953da07a1d",
   "metadata": {},
   "outputs": [],
   "source": [
    "fig, ax = plt.subplots(2,2,figsize=(12,8),sharey=True)\n",
    "plt.subplots_adjust(wspace=0.02)\n",
    "ytext = 0.0225\n",
    "props = dict(facecolor='lightgrey', alpha=0.2)\n",
    "path='./_output_sinusoidal_classic_b08_mx320k/'\n",
    "t_int = tmax/(len(eta3)-1)\n",
    "\n",
    "def add_plot(frame,axis,xmin,xmax):\n",
    "    i = frame\n",
    "    axis = axis\n",
    "    x_ps3, e_ps3 = fine_resolution(eta3[i],20000,x3,xi3)\n",
    "    axis.plot(x_ps3,e_ps3,'-.C1',lw=lw)\n",
    "    x_ps5, e_ps5 = fine_resolution(eta5[i],20000,x5,xi5)\n",
    "    axis.plot(x_ps5,e_ps5,'--C0',lw=lw)\n",
    "    axis.set_ylim(-0.002,0.025)\n",
    "    x_sw, eta_sw = load_frame(i,path)\n",
    "    axis.plot(x_sw,eta_sw,'-k',lw=lw,alpha=1.,label='Shallow Water')\n",
    "    axis.set_xlim(xmin,xmax)\n",
    "    axis.set_xticks(range(int(xmin)+5, int(xmax)-4, 10))\n",
    "    axis.set_yticks([0, 0.025])  # set only 3 y-axis tick labels\n",
    "    axis.text(xmin+(xmax-xmin)/3,ytext,'$t=%3.1f$' % (i*t_int),bbox=props)\n",
    "\n",
    "add_plot(2,axis=ax[0,0],xmin=0,xmax=30)\n",
    "add_plot(14,axis=ax[0,1],xmin=40,xmax=70)\n",
    "add_plot(46,axis=ax[1,0],xmin=180,xmax=210)\n",
    "add_plot(100,axis=ax[1,1],xmin=410,xmax=440)\n",
    "\n",
    "fig.text(0.5, 0.04, 'x', ha='center', va='center')\n",
    "fig.text(0.06, 0.5, 'Surface Height ($\\eta$)', ha='center', va='center', rotation='vertical')\n",
    "fig.legend(['$O(\\delta^3)$ Homogenized','$O(\\delta^5)$ Homogenized','Shallow water'],loc='upper center', fancybox=True, shadow=True);\n",
    "plt.savefig('comparison_sinusoidal.pdf')"
   ]
  },
  {
   "cell_type": "code",
   "execution_count": null,
   "id": "65dddf89-8342-4237-941c-39b39986c624",
   "metadata": {},
   "outputs": [],
   "source": []
  }
 ],
 "metadata": {
  "kernelspec": {
   "display_name": "Python 3 (ipykernel)",
   "language": "python",
   "name": "python3"
  },
  "language_info": {
   "codemirror_mode": {
    "name": "ipython",
    "version": 3
   },
   "file_extension": ".py",
   "mimetype": "text/x-python",
   "name": "python",
   "nbconvert_exporter": "python",
   "pygments_lexer": "ipython3",
   "version": "3.11.4"
  }
 },
 "nbformat": 4,
 "nbformat_minor": 5
}
